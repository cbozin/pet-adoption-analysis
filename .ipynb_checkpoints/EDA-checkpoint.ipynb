{
 "cells": [
  {
   "cell_type": "markdown",
   "id": "36922526-e9a9-4801-b530-4957ecffe13f",
   "metadata": {},
   "source": [
    "# Exploratory Data Analysis"
   ]
  },
  {
   "cell_type": "code",
   "execution_count": 1,
   "id": "64e40559-e97e-40a4-8df9-3d25755c654c",
   "metadata": {},
   "outputs": [],
   "source": [
    "import pandas as pd\n",
    "url = \"https://data.austintexas.gov/api/views/9t4d-g238/rows.csv?accessType=DOWNLOAD\"\n",
    "\n",
    "df = pd.read_csv(url)"
   ]
  },
  {
   "cell_type": "code",
   "execution_count": 2,
   "id": "49f82835-739e-4c79-b8aa-9108caba5485",
   "metadata": {},
   "outputs": [
    {
     "data": {
      "text/html": [
       "<div>\n",
       "<style scoped>\n",
       "    .dataframe tbody tr th:only-of-type {\n",
       "        vertical-align: middle;\n",
       "    }\n",
       "\n",
       "    .dataframe tbody tr th {\n",
       "        vertical-align: top;\n",
       "    }\n",
       "\n",
       "    .dataframe thead th {\n",
       "        text-align: right;\n",
       "    }\n",
       "</style>\n",
       "<table border=\"1\" class=\"dataframe\">\n",
       "  <thead>\n",
       "    <tr style=\"text-align: right;\">\n",
       "      <th></th>\n",
       "      <th>Animal ID</th>\n",
       "      <th>Date of Birth</th>\n",
       "      <th>Name</th>\n",
       "      <th>DateTime</th>\n",
       "      <th>MonthYear</th>\n",
       "      <th>Outcome Type</th>\n",
       "      <th>Outcome Subtype</th>\n",
       "      <th>Animal Type</th>\n",
       "      <th>Sex upon Outcome</th>\n",
       "      <th>Age upon Outcome</th>\n",
       "      <th>Breed</th>\n",
       "      <th>Color</th>\n",
       "    </tr>\n",
       "  </thead>\n",
       "  <tbody>\n",
       "    <tr>\n",
       "      <th>0</th>\n",
       "      <td>A668305</td>\n",
       "      <td>2012-12-01</td>\n",
       "      <td>NaN</td>\n",
       "      <td>2013-12-02T00:00:00-05:00</td>\n",
       "      <td>12-2013</td>\n",
       "      <td>Transfer</td>\n",
       "      <td>Partner</td>\n",
       "      <td>Other</td>\n",
       "      <td>Unknown</td>\n",
       "      <td>1 year</td>\n",
       "      <td>Turtle Mix</td>\n",
       "      <td>Brown/Yellow</td>\n",
       "    </tr>\n",
       "    <tr>\n",
       "      <th>1</th>\n",
       "      <td>A673335</td>\n",
       "      <td>2012-02-22</td>\n",
       "      <td>NaN</td>\n",
       "      <td>2014-02-22T00:00:00-05:00</td>\n",
       "      <td>02-2014</td>\n",
       "      <td>Euthanasia</td>\n",
       "      <td>Suffering</td>\n",
       "      <td>Other</td>\n",
       "      <td>Unknown</td>\n",
       "      <td>2 years</td>\n",
       "      <td>Raccoon</td>\n",
       "      <td>Black/Gray</td>\n",
       "    </tr>\n",
       "    <tr>\n",
       "      <th>2</th>\n",
       "      <td>A675999</td>\n",
       "      <td>2013-04-03</td>\n",
       "      <td>NaN</td>\n",
       "      <td>2014-04-07T00:00:00-05:00</td>\n",
       "      <td>04-2014</td>\n",
       "      <td>Transfer</td>\n",
       "      <td>Partner</td>\n",
       "      <td>Other</td>\n",
       "      <td>Unknown</td>\n",
       "      <td>1 year</td>\n",
       "      <td>Turtle Mix</td>\n",
       "      <td>Green</td>\n",
       "    </tr>\n",
       "    <tr>\n",
       "      <th>3</th>\n",
       "      <td>A679066</td>\n",
       "      <td>2014-04-16</td>\n",
       "      <td>NaN</td>\n",
       "      <td>2014-05-16T00:00:00-05:00</td>\n",
       "      <td>05-2014</td>\n",
       "      <td>NaN</td>\n",
       "      <td>NaN</td>\n",
       "      <td>Other</td>\n",
       "      <td>Unknown</td>\n",
       "      <td>4 weeks</td>\n",
       "      <td>Rabbit Sh</td>\n",
       "      <td>Brown</td>\n",
       "    </tr>\n",
       "    <tr>\n",
       "      <th>4</th>\n",
       "      <td>A680855</td>\n",
       "      <td>2014-05-25</td>\n",
       "      <td>NaN</td>\n",
       "      <td>2014-06-10T00:00:00-05:00</td>\n",
       "      <td>06-2014</td>\n",
       "      <td>Transfer</td>\n",
       "      <td>Partner</td>\n",
       "      <td>Bird</td>\n",
       "      <td>Unknown</td>\n",
       "      <td>2 weeks</td>\n",
       "      <td>Duck</td>\n",
       "      <td>Yellow/Black</td>\n",
       "    </tr>\n",
       "  </tbody>\n",
       "</table>\n",
       "</div>"
      ],
      "text/plain": [
       "  Animal ID Date of Birth Name                   DateTime MonthYear  \\\n",
       "0   A668305    2012-12-01  NaN  2013-12-02T00:00:00-05:00   12-2013   \n",
       "1   A673335    2012-02-22  NaN  2014-02-22T00:00:00-05:00   02-2014   \n",
       "2   A675999    2013-04-03  NaN  2014-04-07T00:00:00-05:00   04-2014   \n",
       "3   A679066    2014-04-16  NaN  2014-05-16T00:00:00-05:00   05-2014   \n",
       "4   A680855    2014-05-25  NaN  2014-06-10T00:00:00-05:00   06-2014   \n",
       "\n",
       "  Outcome Type Outcome Subtype Animal Type Sex upon Outcome Age upon Outcome  \\\n",
       "0     Transfer         Partner       Other          Unknown           1 year   \n",
       "1   Euthanasia       Suffering       Other          Unknown          2 years   \n",
       "2     Transfer         Partner       Other          Unknown           1 year   \n",
       "3          NaN             NaN       Other          Unknown          4 weeks   \n",
       "4     Transfer         Partner        Bird          Unknown          2 weeks   \n",
       "\n",
       "        Breed         Color  \n",
       "0  Turtle Mix  Brown/Yellow  \n",
       "1     Raccoon    Black/Gray  \n",
       "2  Turtle Mix         Green  \n",
       "3   Rabbit Sh         Brown  \n",
       "4        Duck  Yellow/Black  "
      ]
     },
     "execution_count": 2,
     "metadata": {},
     "output_type": "execute_result"
    }
   ],
   "source": [
    "df.head()"
   ]
  },
  {
   "cell_type": "code",
   "execution_count": 3,
   "id": "7c562220-31f8-414a-9c5b-b2329f5fa8a9",
   "metadata": {},
   "outputs": [
    {
     "name": "stdout",
     "output_type": "stream",
     "text": [
      "<class 'pandas.core.frame.DataFrame'>\n",
      "RangeIndex: 173775 entries, 0 to 173774\n",
      "Data columns (total 12 columns):\n",
      " #   Column            Non-Null Count   Dtype \n",
      "---  ------            --------------   ----- \n",
      " 0   Animal ID         173775 non-null  object\n",
      " 1   Date of Birth     173775 non-null  object\n",
      " 2   Name              123991 non-null  object\n",
      " 3   DateTime          173775 non-null  object\n",
      " 4   MonthYear         173775 non-null  object\n",
      " 5   Outcome Type      173729 non-null  object\n",
      " 6   Outcome Subtype   79660 non-null   object\n",
      " 7   Animal Type       173775 non-null  object\n",
      " 8   Sex upon Outcome  173774 non-null  object\n",
      " 9   Age upon Outcome  173766 non-null  object\n",
      " 10  Breed             173775 non-null  object\n",
      " 11  Color             173775 non-null  object\n",
      "dtypes: object(12)\n",
      "memory usage: 15.9+ MB\n"
     ]
    }
   ],
   "source": [
    "df.info()"
   ]
  },
  {
   "cell_type": "code",
   "execution_count": 6,
   "id": "5d62e969-0875-45d6-b1fd-3e1f1459177e",
   "metadata": {},
   "outputs": [
    {
     "name": "stdout",
     "output_type": "stream",
     "text": [
      "<class 'pandas.core.frame.DataFrame'>\n",
      "RangeIndex: 173775 entries, 0 to 173774\n",
      "Data columns (total 12 columns):\n",
      " #   Column            Non-Null Count   Dtype         \n",
      "---  ------            --------------   -----         \n",
      " 0   animal_id         173775 non-null  object        \n",
      " 1   date_of_birth     173775 non-null  datetime64[ns]\n",
      " 2   name              123991 non-null  object        \n",
      " 3   datetime          173775 non-null  object        \n",
      " 4   month_year        173775 non-null  datetime64[ns]\n",
      " 5   outcome_type      173729 non-null  category      \n",
      " 6   outcome_subtype   173729 non-null  category      \n",
      " 7   animal_type       173775 non-null  category      \n",
      " 8   sex_upon_outcome  173774 non-null  category      \n",
      " 9   age_upon_outcome  173766 non-null  object        \n",
      " 10  breed             173775 non-null  object        \n",
      " 11  color             173775 non-null  object        \n",
      "dtypes: category(4), datetime64[ns](2), object(6)\n",
      "memory usage: 11.3+ MB\n"
     ]
    }
   ],
   "source": [
    "df.info()"
   ]
  },
  {
   "cell_type": "markdown",
   "id": "eed5cf3b-c65f-4111-ba1d-bca9e70293e0",
   "metadata": {},
   "source": [
    "### Nulls"
   ]
  },
  {
   "cell_type": "code",
   "execution_count": 7,
   "id": "4eb8d4e4-609e-4412-851f-ed33e19c7e5f",
   "metadata": {},
   "outputs": [
    {
     "data": {
      "text/plain": [
       "animal_id            0.00\n",
       "date_of_birth        0.00\n",
       "name                28.65\n",
       "datetime             0.00\n",
       "month_year           0.00\n",
       "outcome_type         0.03\n",
       "outcome_subtype      0.03\n",
       "animal_type          0.00\n",
       "sex_upon_outcome     0.00\n",
       "age_upon_outcome     0.01\n",
       "breed                0.00\n",
       "color                0.00\n",
       "dtype: float64"
      ]
     },
     "execution_count": 7,
     "metadata": {},
     "output_type": "execute_result"
    }
   ],
   "source": [
    "round((df.isnull().mean() * 100), 2)"
   ]
  },
  {
   "cell_type": "markdown",
   "id": "14e5fd0d-d172-4596-8383-f00e53c0bb6e",
   "metadata": {},
   "source": [
    "### Unique Values"
   ]
  },
  {
   "cell_type": "code",
   "execution_count": 11,
   "id": "e22cefcd-84c6-4cda-aa86-2c0b17cac852",
   "metadata": {},
   "outputs": [
    {
     "data": {
      "text/plain": [
       "Index(['Adoption', 'Died', 'Disposal', 'Euthanasia', 'Lost', 'Missing',\n",
       "       'Relocate', 'Return to Owner', 'Rto-Adopt', 'Stolen', 'Transfer'],\n",
       "      dtype='object')"
      ]
     },
     "execution_count": 11,
     "metadata": {},
     "output_type": "execute_result"
    }
   ],
   "source": [
    "df['Outcome Type'].unique()"
   ]
  },
  {
   "cell_type": "code",
   "execution_count": 13,
   "id": "8ab159cf-c00d-4873-b408-ec9b297de385",
   "metadata": {},
   "outputs": [
    {
     "data": {
      "text/plain": [
       "Index(['Adoption', 'Died', 'Disposal', 'Euthanasia', 'Lost', 'Missing',\n",
       "       'Relocate', 'Return to Owner', 'Rto-Adopt', 'Stolen', 'Transfer'],\n",
       "      dtype='object')"
      ]
     },
     "execution_count": 13,
     "metadata": {},
     "output_type": "execute_result"
    }
   ],
   "source": [
    "df['Outcome Subtype'].unique()"
   ]
  },
  {
   "cell_type": "code",
   "execution_count": 14,
   "id": "5827d1e7-05c9-4f21-b0ac-a7cd16f698db",
   "metadata": {},
   "outputs": [
    {
     "data": {
      "text/plain": [
       "Index(['Bird', 'Cat', 'Dog', 'Livestock', 'Other'], dtype='object')"
      ]
     },
     "execution_count": 14,
     "metadata": {},
     "output_type": "execute_result"
    }
   ],
   "source": [
    "df['Animal Type'].unique()"
   ]
  },
  {
   "cell_type": "code",
   "execution_count": 15,
   "id": "1262ac7b-ee60-49df-bd2d-33913f670c18",
   "metadata": {},
   "outputs": [
    {
     "data": {
      "text/plain": [
       "Index(['Intact Female', 'Intact Male', 'Neutered Male', 'Spayed Female',\n",
       "       'Unknown'],\n",
       "      dtype='object')"
      ]
     },
     "execution_count": 15,
     "metadata": {},
     "output_type": "execute_result"
    }
   ],
   "source": [
    "df['Sex upon Outcome'].unique()"
   ]
  },
  {
   "cell_type": "code",
   "execution_count": null,
   "id": "89e4b772-88cd-413b-86ce-7bdefe652220",
   "metadata": {},
   "outputs": [],
   "source": [
    " df.nunique()"
   ]
  },
  {
   "cell_type": "markdown",
   "id": "16877962-e594-4de6-9605-17b028935238",
   "metadata": {},
   "source": [
    "### Duplicates"
   ]
  },
  {
   "cell_type": "code",
   "execution_count": null,
   "id": "da0d4d89-cf6c-4967-a890-cc61731f4109",
   "metadata": {},
   "outputs": [],
   "source": [
    "df.duplicated().sum()"
   ]
  },
  {
   "cell_type": "markdown",
   "id": "4d3dfc37-dc52-4745-af67-5745c5342e4b",
   "metadata": {},
   "source": [
    "### Breed & Color Columns"
   ]
  },
  {
   "cell_type": "code",
   "execution_count": 19,
   "id": "a21a8bbb-1c18-43ee-94c4-899a0ec9c98c",
   "metadata": {
    "scrolled": true
   },
   "outputs": [
    {
     "data": {
      "text/plain": [
       "animal_type\n",
       "Dog          94505\n",
       "Cat          69399\n",
       "Other         8960\n",
       "Bird           877\n",
       "Livestock       34\n",
       "Name: count, dtype: int64"
      ]
     },
     "execution_count": 19,
     "metadata": {},
     "output_type": "execute_result"
    }
   ],
   "source": [
    "df['animal_type'].value_counts()"
   ]
  },
  {
   "cell_type": "code",
   "execution_count": 23,
   "id": "f0b078e2-1fd6-4102-8c80-1eb5f4b227b1",
   "metadata": {},
   "outputs": [
    {
     "data": {
      "text/plain": [
       "array(['Pig Mix', 'Goat Mix', 'Miniature', 'Potbelly Pig Mix', 'Pig',\n",
       "       'Sheep Mix', 'Pygmy', 'Goat', 'Potbelly Pig', 'Emu', 'Goat/Pygmy'],\n",
       "      dtype=object)"
      ]
     },
     "execution_count": 23,
     "metadata": {},
     "output_type": "execute_result"
    }
   ],
   "source": [
    "df[df['animal_type'] == \"Livestock\"]['breed'].unique()"
   ]
  },
  {
   "cell_type": "code",
   "execution_count": 24,
   "id": "bb59dcf4-bc7e-4212-a7de-35ab32e16f45",
   "metadata": {},
   "outputs": [
    {
     "data": {
      "text/plain": [
       "array(['Pink', 'Brown', 'White', 'Liver/Cream', 'Black/White', 'Black',\n",
       "       'Gray', 'Gray/Black', 'White/Black', 'Tan/Black', 'Tan',\n",
       "       'Black/Brown', 'Tan/White', 'Tricolor/Brown'], dtype=object)"
      ]
     },
     "execution_count": 24,
     "metadata": {},
     "output_type": "execute_result"
    }
   ],
   "source": [
    "df[df['animal_type'] == \"Livestock\"]['color'].unique()"
   ]
  },
  {
   "cell_type": "markdown",
   "id": "13d5e3c3-707e-4877-a02e-8a79954dd4bb",
   "metadata": {},
   "source": [
    "### Data Dictionary"
   ]
  },
  {
   "cell_type": "markdown",
   "id": "dd901f0a-c43e-49aa-981e-e24153545af9",
   "metadata": {},
   "source": [
    "\n",
    "| Column            | Data Type | Description |\n",
    "|-------------------|-----------|-------------|\n",
    "| animal_id         | Object| unique identifier for animal\n",
    "| date_of_birth  | Object | date of birth of animal\n",
    "| name        | Object |name of animal       \n",
    "datetime         | Object| timestamp of outcome          \n",
    "month_year       | Object| month and year of outcome             \n",
    "outcome_type      | Object| type of outcome        \n",
    "outcome_subtype      | Object| subtype of outcome   \n",
    "animal_type        | Object| animal type          \n",
    "sex_upon_outcome    | Object| sex and neutered status of animal         \n",
    "age_upon_outcome   | Object| age of animal at time of outcome         \n",
    "breed            | Object| breed of animal     \n",
    "color               | Object| color of animal   "
   ]
  },
  {
   "cell_type": "markdown",
   "id": "4a7b10ed-2d58-4fd8-89bd-c2df49595641",
   "metadata": {},
   "source": [
    "### Rename Columns and Change Datatypes"
   ]
  },
  {
   "cell_type": "code",
   "execution_count": 4,
   "id": "cfc51202-93c3-4f7b-a436-469fecba464e",
   "metadata": {},
   "outputs": [],
   "source": [
    "df.rename(columns={ \"Animal ID\": \"animal_id\",\n",
    "        \"Date of Birth\": \"date_of_birth\",\n",
    "        \"Name\": \"name\",\n",
    "        \"DateTime\": \"datetime\",\n",
    "        \"MonthYear\": \"month_year\",\n",
    "        \"Outcome Type\": \"outcome_type\",\n",
    "        \"Outcome Subtype\": \"outcome_subtype\",\n",
    "        \"Animal Type\": \"animal_type\",\n",
    "        \"Sex upon Outcome\": \"sex_upon_outcome\",\n",
    "        \"Age upon Outcome\": \"age_upon_outcome\",\n",
    "        \"Breed\": \"breed\",\n",
    "        \"Color\": \"color\"}, inplace=True)"
   ]
  },
  {
   "cell_type": "code",
   "execution_count": 5,
   "id": "695d15dc-d6b3-420e-9bd2-8307a0723638",
   "metadata": {},
   "outputs": [],
   "source": [
    "df['date_of_birth'] = pd.to_datetime(df['date_of_birth'])\n",
    "df['month_year'] = pd.to_datetime(df['month_year'], format=\"%m-%Y\")\n",
    "df['outcome_type'] = df['outcome_type'].astype('category')\n",
    "df['outcome_subtype'] = df['outcome_type'].astype('category')\n",
    "df['animal_type'] = df['animal_type'].astype('category')\n",
    "df['sex_upon_outcome'] = df['sex_upon_outcome'].astype('category')"
   ]
  },
  {
   "cell_type": "markdown",
   "id": "5d8bc744-d135-4fb2-b3ab-4c3b6e8b45dd",
   "metadata": {},
   "source": [
    "## Cleaning"
   ]
  },
  {
   "cell_type": "code",
   "execution_count": null,
   "id": "65e4936e-6d0b-4af8-8d0c-df4159591451",
   "metadata": {},
   "outputs": [],
   "source": []
  }
 ],
 "metadata": {
  "kernelspec": {
   "display_name": "Python 3 (ipykernel)",
   "language": "python",
   "name": "python3"
  },
  "language_info": {
   "codemirror_mode": {
    "name": "ipython",
    "version": 3
   },
   "file_extension": ".py",
   "mimetype": "text/x-python",
   "name": "python",
   "nbconvert_exporter": "python",
   "pygments_lexer": "ipython3",
   "version": "3.12.3"
  }
 },
 "nbformat": 4,
 "nbformat_minor": 5
}
