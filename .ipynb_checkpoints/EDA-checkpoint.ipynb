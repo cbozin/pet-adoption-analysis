{
 "cells": [
  {
   "cell_type": "markdown",
   "id": "36922526-e9a9-4801-b530-4957ecffe13f",
   "metadata": {},
   "source": [
    "# Exploratory Data Analysis"
   ]
  },
  {
   "cell_type": "code",
   "execution_count": 1,
   "id": "64e40559-e97e-40a4-8df9-3d25755c654c",
   "metadata": {},
   "outputs": [],
   "source": [
    "import pandas as pd\n",
    "url = \"https://data.austintexas.gov/api/views/9t4d-g238/rows.csv?accessType=DOWNLOAD\"\n",
    "\n",
    "df = pd.read_csv(url)"
   ]
  },
  {
   "cell_type": "code",
   "execution_count": 2,
   "id": "49f82835-739e-4c79-b8aa-9108caba5485",
   "metadata": {},
   "outputs": [
    {
     "data": {
      "text/html": [
       "<div>\n",
       "<style scoped>\n",
       "    .dataframe tbody tr th:only-of-type {\n",
       "        vertical-align: middle;\n",
       "    }\n",
       "\n",
       "    .dataframe tbody tr th {\n",
       "        vertical-align: top;\n",
       "    }\n",
       "\n",
       "    .dataframe thead th {\n",
       "        text-align: right;\n",
       "    }\n",
       "</style>\n",
       "<table border=\"1\" class=\"dataframe\">\n",
       "  <thead>\n",
       "    <tr style=\"text-align: right;\">\n",
       "      <th></th>\n",
       "      <th>Animal ID</th>\n",
       "      <th>Date of Birth</th>\n",
       "      <th>Name</th>\n",
       "      <th>DateTime</th>\n",
       "      <th>MonthYear</th>\n",
       "      <th>Outcome Type</th>\n",
       "      <th>Outcome Subtype</th>\n",
       "      <th>Animal Type</th>\n",
       "      <th>Sex upon Outcome</th>\n",
       "      <th>Age upon Outcome</th>\n",
       "      <th>Breed</th>\n",
       "      <th>Color</th>\n",
       "    </tr>\n",
       "  </thead>\n",
       "  <tbody>\n",
       "    <tr>\n",
       "      <th>0</th>\n",
       "      <td>A668305</td>\n",
       "      <td>2012-12-01</td>\n",
       "      <td>NaN</td>\n",
       "      <td>2013-12-02T00:00:00-05:00</td>\n",
       "      <td>12-2013</td>\n",
       "      <td>Transfer</td>\n",
       "      <td>Partner</td>\n",
       "      <td>Other</td>\n",
       "      <td>Unknown</td>\n",
       "      <td>1 year</td>\n",
       "      <td>Turtle Mix</td>\n",
       "      <td>Brown/Yellow</td>\n",
       "    </tr>\n",
       "    <tr>\n",
       "      <th>1</th>\n",
       "      <td>A673335</td>\n",
       "      <td>2012-02-22</td>\n",
       "      <td>NaN</td>\n",
       "      <td>2014-02-22T00:00:00-05:00</td>\n",
       "      <td>02-2014</td>\n",
       "      <td>Euthanasia</td>\n",
       "      <td>Suffering</td>\n",
       "      <td>Other</td>\n",
       "      <td>Unknown</td>\n",
       "      <td>2 years</td>\n",
       "      <td>Raccoon</td>\n",
       "      <td>Black/Gray</td>\n",
       "    </tr>\n",
       "    <tr>\n",
       "      <th>2</th>\n",
       "      <td>A675999</td>\n",
       "      <td>2013-04-03</td>\n",
       "      <td>NaN</td>\n",
       "      <td>2014-04-07T00:00:00-05:00</td>\n",
       "      <td>04-2014</td>\n",
       "      <td>Transfer</td>\n",
       "      <td>Partner</td>\n",
       "      <td>Other</td>\n",
       "      <td>Unknown</td>\n",
       "      <td>1 year</td>\n",
       "      <td>Turtle Mix</td>\n",
       "      <td>Green</td>\n",
       "    </tr>\n",
       "    <tr>\n",
       "      <th>3</th>\n",
       "      <td>A679066</td>\n",
       "      <td>2014-04-16</td>\n",
       "      <td>NaN</td>\n",
       "      <td>2014-05-16T00:00:00-05:00</td>\n",
       "      <td>05-2014</td>\n",
       "      <td>NaN</td>\n",
       "      <td>NaN</td>\n",
       "      <td>Other</td>\n",
       "      <td>Unknown</td>\n",
       "      <td>4 weeks</td>\n",
       "      <td>Rabbit Sh</td>\n",
       "      <td>Brown</td>\n",
       "    </tr>\n",
       "    <tr>\n",
       "      <th>4</th>\n",
       "      <td>A680855</td>\n",
       "      <td>2014-05-25</td>\n",
       "      <td>NaN</td>\n",
       "      <td>2014-06-10T00:00:00-05:00</td>\n",
       "      <td>06-2014</td>\n",
       "      <td>Transfer</td>\n",
       "      <td>Partner</td>\n",
       "      <td>Bird</td>\n",
       "      <td>Unknown</td>\n",
       "      <td>2 weeks</td>\n",
       "      <td>Duck</td>\n",
       "      <td>Yellow/Black</td>\n",
       "    </tr>\n",
       "  </tbody>\n",
       "</table>\n",
       "</div>"
      ],
      "text/plain": [
       "  Animal ID Date of Birth Name                   DateTime MonthYear  \\\n",
       "0   A668305    2012-12-01  NaN  2013-12-02T00:00:00-05:00   12-2013   \n",
       "1   A673335    2012-02-22  NaN  2014-02-22T00:00:00-05:00   02-2014   \n",
       "2   A675999    2013-04-03  NaN  2014-04-07T00:00:00-05:00   04-2014   \n",
       "3   A679066    2014-04-16  NaN  2014-05-16T00:00:00-05:00   05-2014   \n",
       "4   A680855    2014-05-25  NaN  2014-06-10T00:00:00-05:00   06-2014   \n",
       "\n",
       "  Outcome Type Outcome Subtype Animal Type Sex upon Outcome Age upon Outcome  \\\n",
       "0     Transfer         Partner       Other          Unknown           1 year   \n",
       "1   Euthanasia       Suffering       Other          Unknown          2 years   \n",
       "2     Transfer         Partner       Other          Unknown           1 year   \n",
       "3          NaN             NaN       Other          Unknown          4 weeks   \n",
       "4     Transfer         Partner        Bird          Unknown          2 weeks   \n",
       "\n",
       "        Breed         Color  \n",
       "0  Turtle Mix  Brown/Yellow  \n",
       "1     Raccoon    Black/Gray  \n",
       "2  Turtle Mix         Green  \n",
       "3   Rabbit Sh         Brown  \n",
       "4        Duck  Yellow/Black  "
      ]
     },
     "execution_count": 2,
     "metadata": {},
     "output_type": "execute_result"
    }
   ],
   "source": [
    "df.head()"
   ]
  },
  {
   "cell_type": "code",
   "execution_count": 3,
   "id": "7c562220-31f8-414a-9c5b-b2329f5fa8a9",
   "metadata": {},
   "outputs": [
    {
     "name": "stdout",
     "output_type": "stream",
     "text": [
      "<class 'pandas.core.frame.DataFrame'>\n",
      "RangeIndex: 173775 entries, 0 to 173774\n",
      "Data columns (total 12 columns):\n",
      " #   Column            Non-Null Count   Dtype \n",
      "---  ------            --------------   ----- \n",
      " 0   Animal ID         173775 non-null  object\n",
      " 1   Date of Birth     173775 non-null  object\n",
      " 2   Name              123991 non-null  object\n",
      " 3   DateTime          173775 non-null  object\n",
      " 4   MonthYear         173775 non-null  object\n",
      " 5   Outcome Type      173729 non-null  object\n",
      " 6   Outcome Subtype   79660 non-null   object\n",
      " 7   Animal Type       173775 non-null  object\n",
      " 8   Sex upon Outcome  173774 non-null  object\n",
      " 9   Age upon Outcome  173766 non-null  object\n",
      " 10  Breed             173775 non-null  object\n",
      " 11  Color             173775 non-null  object\n",
      "dtypes: object(12)\n",
      "memory usage: 15.9+ MB\n"
     ]
    }
   ],
   "source": [
    "df.info()"
   ]
  },
  {
   "cell_type": "code",
   "execution_count": 4,
   "id": "5d62e969-0875-45d6-b1fd-3e1f1459177e",
   "metadata": {},
   "outputs": [
    {
     "name": "stdout",
     "output_type": "stream",
     "text": [
      "<class 'pandas.core.frame.DataFrame'>\n",
      "RangeIndex: 173775 entries, 0 to 173774\n",
      "Data columns (total 12 columns):\n",
      " #   Column            Non-Null Count   Dtype \n",
      "---  ------            --------------   ----- \n",
      " 0   Animal ID         173775 non-null  object\n",
      " 1   Date of Birth     173775 non-null  object\n",
      " 2   Name              123991 non-null  object\n",
      " 3   DateTime          173775 non-null  object\n",
      " 4   MonthYear         173775 non-null  object\n",
      " 5   Outcome Type      173729 non-null  object\n",
      " 6   Outcome Subtype   79660 non-null   object\n",
      " 7   Animal Type       173775 non-null  object\n",
      " 8   Sex upon Outcome  173774 non-null  object\n",
      " 9   Age upon Outcome  173766 non-null  object\n",
      " 10  Breed             173775 non-null  object\n",
      " 11  Color             173775 non-null  object\n",
      "dtypes: object(12)\n",
      "memory usage: 15.9+ MB\n"
     ]
    }
   ],
   "source": [
    "df.info()"
   ]
  },
  {
   "cell_type": "markdown",
   "id": "eed5cf3b-c65f-4111-ba1d-bca9e70293e0",
   "metadata": {},
   "source": [
    "### Nulls"
   ]
  },
  {
   "cell_type": "code",
   "execution_count": 5,
   "id": "37646908-3b5a-4c11-9b5c-d37eaa0291aa",
   "metadata": {},
   "outputs": [
    {
     "data": {
      "text/plain": [
       "Animal ID               0\n",
       "Date of Birth           0\n",
       "Name                49784\n",
       "DateTime                0\n",
       "MonthYear               0\n",
       "Outcome Type           46\n",
       "Outcome Subtype     94115\n",
       "Animal Type             0\n",
       "Sex upon Outcome        1\n",
       "Age upon Outcome        9\n",
       "Breed                   0\n",
       "Color                   0\n",
       "dtype: int64"
      ]
     },
     "execution_count": 5,
     "metadata": {},
     "output_type": "execute_result"
    }
   ],
   "source": [
    "df.isnull().sum()"
   ]
  },
  {
   "cell_type": "code",
   "execution_count": 6,
   "id": "4eb8d4e4-609e-4412-851f-ed33e19c7e5f",
   "metadata": {},
   "outputs": [
    {
     "data": {
      "text/plain": [
       "Animal ID            0.00\n",
       "Date of Birth        0.00\n",
       "Name                28.65\n",
       "DateTime             0.00\n",
       "MonthYear            0.00\n",
       "Outcome Type         0.03\n",
       "Outcome Subtype     54.16\n",
       "Animal Type          0.00\n",
       "Sex upon Outcome     0.00\n",
       "Age upon Outcome     0.01\n",
       "Breed                0.00\n",
       "Color                0.00\n",
       "dtype: float64"
      ]
     },
     "execution_count": 6,
     "metadata": {},
     "output_type": "execute_result"
    }
   ],
   "source": [
    "round((df.isnull().mean() * 100), 2)"
   ]
  },
  {
   "cell_type": "markdown",
   "id": "14e5fd0d-d172-4596-8383-f00e53c0bb6e",
   "metadata": {},
   "source": [
    "### Unique Values"
   ]
  },
  {
   "cell_type": "code",
   "execution_count": 7,
   "id": "e22cefcd-84c6-4cda-aa86-2c0b17cac852",
   "metadata": {},
   "outputs": [
    {
     "data": {
      "text/plain": [
       "array(['Transfer', 'Euthanasia', nan, 'Adoption', 'Return to Owner',\n",
       "       'Died', 'Missing', 'Disposal', 'Relocate', 'Rto-Adopt', 'Stolen',\n",
       "       'Lost'], dtype=object)"
      ]
     },
     "execution_count": 7,
     "metadata": {},
     "output_type": "execute_result"
    }
   ],
   "source": [
    "df['Outcome Type'].unique()"
   ]
  },
  {
   "cell_type": "code",
   "execution_count": 8,
   "id": "8ab159cf-c00d-4873-b408-ec9b297de385",
   "metadata": {},
   "outputs": [
    {
     "data": {
      "text/plain": [
       "array(['Partner', 'Suffering', nan, 'Foster', 'Offsite', 'In Kennel',\n",
       "       'Enroute', 'In Foster', 'Aggressive', 'SCRP', 'Rabies Risk',\n",
       "       'At Vet', 'Possible Theft', 'Medical', 'Snr', 'Field', 'Behavior',\n",
       "       'Court/Investigation', 'In Surgery', 'Barn', 'Underage',\n",
       "       'Customer S', 'Out State', 'Emergency', 'Prc', 'Emer', 'In State'],\n",
       "      dtype=object)"
      ]
     },
     "execution_count": 8,
     "metadata": {},
     "output_type": "execute_result"
    }
   ],
   "source": [
    "df['Outcome Subtype'].unique()"
   ]
  },
  {
   "cell_type": "code",
   "execution_count": 9,
   "id": "5827d1e7-05c9-4f21-b0ac-a7cd16f698db",
   "metadata": {},
   "outputs": [
    {
     "data": {
      "text/plain": [
       "array(['Other', 'Bird', 'Dog', 'Cat', 'Livestock'], dtype=object)"
      ]
     },
     "execution_count": 9,
     "metadata": {},
     "output_type": "execute_result"
    }
   ],
   "source": [
    "df['Animal Type'].unique()"
   ]
  },
  {
   "cell_type": "code",
   "execution_count": 10,
   "id": "1262ac7b-ee60-49df-bd2d-33913f670c18",
   "metadata": {},
   "outputs": [
    {
     "data": {
      "text/plain": [
       "array(['Unknown', 'Spayed Female', 'Intact Male', 'Intact Female',\n",
       "       'Neutered Male', nan], dtype=object)"
      ]
     },
     "execution_count": 10,
     "metadata": {},
     "output_type": "execute_result"
    }
   ],
   "source": [
    "df['Sex upon Outcome'].unique()"
   ]
  },
  {
   "cell_type": "code",
   "execution_count": 11,
   "id": "89e4b772-88cd-413b-86ce-7bdefe652220",
   "metadata": {},
   "outputs": [
    {
     "data": {
      "text/plain": [
       "Animal ID           156237\n",
       "Date of Birth         8692\n",
       "Name                 29756\n",
       "DateTime            146382\n",
       "MonthYear              140\n",
       "Outcome Type            11\n",
       "Outcome Subtype         26\n",
       "Animal Type              5\n",
       "Sex upon Outcome         5\n",
       "Age upon Outcome        55\n",
       "Breed                 3010\n",
       "Color                  663\n",
       "dtype: int64"
      ]
     },
     "execution_count": 11,
     "metadata": {},
     "output_type": "execute_result"
    }
   ],
   "source": [
    " df.nunique()"
   ]
  },
  {
   "cell_type": "markdown",
   "id": "16877962-e594-4de6-9605-17b028935238",
   "metadata": {},
   "source": [
    "### Duplicates"
   ]
  },
  {
   "cell_type": "code",
   "execution_count": 12,
   "id": "da0d4d89-cf6c-4967-a890-cc61731f4109",
   "metadata": {},
   "outputs": [
    {
     "data": {
      "text/plain": [
       "26"
      ]
     },
     "execution_count": 12,
     "metadata": {},
     "output_type": "execute_result"
    }
   ],
   "source": [
    "df.duplicated().sum()"
   ]
  },
  {
   "cell_type": "markdown",
   "id": "4d3dfc37-dc52-4745-af67-5745c5342e4b",
   "metadata": {},
   "source": [
    "### Breed & Color Columns"
   ]
  },
  {
   "cell_type": "code",
   "execution_count": 13,
   "id": "a21a8bbb-1c18-43ee-94c4-899a0ec9c98c",
   "metadata": {
    "scrolled": true
   },
   "outputs": [
    {
     "data": {
      "text/plain": [
       "Animal Type\n",
       "Dog          94505\n",
       "Cat          69399\n",
       "Other         8960\n",
       "Bird           877\n",
       "Livestock       34\n",
       "Name: count, dtype: int64"
      ]
     },
     "execution_count": 13,
     "metadata": {},
     "output_type": "execute_result"
    }
   ],
   "source": [
    "df['Animal Type'].value_counts()"
   ]
  },
  {
   "cell_type": "code",
   "execution_count": 14,
   "id": "f0b078e2-1fd6-4102-8c80-1eb5f4b227b1",
   "metadata": {},
   "outputs": [
    {
     "data": {
      "text/plain": [
       "array(['Pig Mix', 'Goat Mix', 'Miniature', 'Potbelly Pig Mix', 'Pig',\n",
       "       'Sheep Mix', 'Pygmy', 'Goat', 'Potbelly Pig', 'Emu', 'Goat/Pygmy'],\n",
       "      dtype=object)"
      ]
     },
     "execution_count": 14,
     "metadata": {},
     "output_type": "execute_result"
    }
   ],
   "source": [
    "df[df['Animal Type'] == \"Livestock\"]['Breed'].unique()"
   ]
  },
  {
   "cell_type": "code",
   "execution_count": 15,
   "id": "bb59dcf4-bc7e-4212-a7de-35ab32e16f45",
   "metadata": {},
   "outputs": [
    {
     "data": {
      "text/plain": [
       "array(['Pink', 'Brown', 'White', 'Liver/Cream', 'Black/White', 'Black',\n",
       "       'Gray', 'Gray/Black', 'White/Black', 'Tan/Black', 'Tan',\n",
       "       'Black/Brown', 'Tan/White', 'Tricolor/Brown'], dtype=object)"
      ]
     },
     "execution_count": 15,
     "metadata": {},
     "output_type": "execute_result"
    }
   ],
   "source": [
    "df[df['Animal Type'] == \"Livestock\"]['Color'].unique()"
   ]
  },
  {
   "cell_type": "markdown",
   "id": "13d5e3c3-707e-4877-a02e-8a79954dd4bb",
   "metadata": {},
   "source": [
    "### Data Dictionary"
   ]
  },
  {
   "cell_type": "markdown",
   "id": "dd901f0a-c43e-49aa-981e-e24153545af9",
   "metadata": {},
   "source": [
    "\n",
    "| Column            | Data Type | Description |\n",
    "|-------------------|-----------|-------------|\n",
    "| animal_id         | Object| unique identifier for animal\n",
    "| date_of_birth  | Object | date of birth of animal\n",
    "| name        | Object |name of animal       \n",
    "datetime         | Object| timestamp of outcome          \n",
    "month_year       | Object| month and year of outcome             \n",
    "outcome_type      | Object| type of outcome        \n",
    "outcome_subtype      | Object| subtype of outcome   \n",
    "animal_type        | Object| animal type          \n",
    "sex_upon_outcome    | Object| sex and neutered status of animal         \n",
    "age_upon_outcome   | Object| age of animal at time of outcome         \n",
    "breed            | Object| breed of animal     \n",
    "color               | Object| color of animal   "
   ]
  },
  {
   "cell_type": "markdown",
   "id": "4a7b10ed-2d58-4fd8-89bd-c2df49595641",
   "metadata": {},
   "source": [
    "### Rename Columns and Change Datatypes"
   ]
  },
  {
   "cell_type": "markdown",
   "id": "5b0a1cf5-75ca-478b-9503-1d09e7dcfbca",
   "metadata": {},
   "source": [
    "## Cleaning "
   ]
  },
  {
   "cell_type": "code",
   "execution_count": 16,
   "id": "cfc51202-93c3-4f7b-a436-469fecba464e",
   "metadata": {},
   "outputs": [],
   "source": [
    "df.rename(columns={ \"Animal ID\": \"animal_id\",\n",
    "        \"Date of Birth\": \"date_of_birth\",\n",
    "        \"Name\": \"name\",\n",
    "        \"DateTime\": \"datetime\",\n",
    "        \"MonthYear\": \"month_year\",\n",
    "        \"Outcome Type\": \"outcome_type\",\n",
    "        \"Outcome Subtype\": \"outcome_subtype\",\n",
    "        \"Animal Type\": \"animal_type\",\n",
    "        \"Sex upon Outcome\": \"sex_upon_outcome\",\n",
    "        \"Age upon Outcome\": \"age_upon_outcome\",\n",
    "        \"Breed\": \"breed\",\n",
    "        \"Color\": \"color\"}, inplace=True)"
   ]
  },
  {
   "cell_type": "code",
   "execution_count": 17,
   "id": "5b3597d8-6a4b-41dc-97fe-0109b0149048",
   "metadata": {},
   "outputs": [],
   "source": [
    "df.drop('name', axis=1, inplace=True)"
   ]
  },
  {
   "cell_type": "code",
   "execution_count": 18,
   "id": "424b8a89-7373-4524-89bc-1fe6ab1f7754",
   "metadata": {},
   "outputs": [],
   "source": [
    "df.dropna(subset=['age_upon_outcome', 'sex_upon_outcome', 'outcome_type'], inplace=True)"
   ]
  },
  {
   "cell_type": "code",
   "execution_count": 19,
   "id": "c0514b56-eea0-4b6e-97ed-175267d7fcc6",
   "metadata": {},
   "outputs": [
    {
     "data": {
      "text/plain": [
       "animal_id               0\n",
       "date_of_birth           0\n",
       "datetime                0\n",
       "month_year              0\n",
       "outcome_type            0\n",
       "outcome_subtype     94070\n",
       "animal_type             0\n",
       "sex_upon_outcome        0\n",
       "age_upon_outcome        0\n",
       "breed                   0\n",
       "color                   0\n",
       "dtype: int64"
      ]
     },
     "execution_count": 19,
     "metadata": {},
     "output_type": "execute_result"
    }
   ],
   "source": [
    "df.isnull().sum()"
   ]
  },
  {
   "cell_type": "code",
   "execution_count": 20,
   "id": "4d3cb1dc-e0ce-432a-8c21-0e817bf64b0e",
   "metadata": {},
   "outputs": [],
   "source": [
    "df['date_of_birth'] = pd.to_datetime(df['date_of_birth'])\n",
    "df['month_year'] = pd.to_datetime(df['month_year'], format=\"%m-%Y\")\n",
    "df['outcome_type'] = df['outcome_type'].astype('category')\n",
    "df['outcome_subtype'] = df['outcome_type'].astype('category')\n",
    "df['animal_type'] = df['animal_type'].astype('category')\n",
    "df['sex_upon_outcome'] = df['sex_upon_outcome'].astype('category')"
   ]
  },
  {
   "cell_type": "code",
   "execution_count": 21,
   "id": "0c31d28a-6200-4881-a459-44f3d39221af",
   "metadata": {},
   "outputs": [
    {
     "name": "stdout",
     "output_type": "stream",
     "text": [
      "<class 'pandas.core.frame.DataFrame'>\n",
      "Index: 173719 entries, 0 to 173774\n",
      "Data columns (total 11 columns):\n",
      " #   Column            Non-Null Count   Dtype         \n",
      "---  ------            --------------   -----         \n",
      " 0   animal_id         173719 non-null  object        \n",
      " 1   date_of_birth     173719 non-null  datetime64[ns]\n",
      " 2   datetime          173719 non-null  object        \n",
      " 3   month_year        173719 non-null  datetime64[ns]\n",
      " 4   outcome_type      173719 non-null  category      \n",
      " 5   outcome_subtype   173719 non-null  category      \n",
      " 6   animal_type       173719 non-null  category      \n",
      " 7   sex_upon_outcome  173719 non-null  category      \n",
      " 8   age_upon_outcome  173719 non-null  object        \n",
      " 9   breed             173719 non-null  object        \n",
      " 10  color             173719 non-null  object        \n",
      "dtypes: category(4), datetime64[ns](2), object(5)\n",
      "memory usage: 11.3+ MB\n"
     ]
    }
   ],
   "source": [
    "df.info()"
   ]
  },
  {
   "cell_type": "markdown",
   "id": "ed9ef0f7-0d3d-4c83-9f16-b36a0a14160b",
   "metadata": {},
   "source": [
    "### Columns to Clean\n",
    "Outcome Type: has many categories that may overlap\\\n",
    "Age Upon Outcome: not standardized format \\\n",
    "Breed: has many categories that may overlap \\\n",
    "Color: not overly standardized, could use change "
   ]
  },
  {
   "cell_type": "code",
   "execution_count": 22,
   "id": "22fcf7a8-134c-465f-a6c1-b2a9405bcbf8",
   "metadata": {},
   "outputs": [],
   "source": [
    "# split color into two columns\n",
    "# assume first color is primary?"
   ]
  },
  {
   "cell_type": "code",
   "execution_count": 28,
   "id": "da151e42-252d-4cc6-8d2e-a4f83f883479",
   "metadata": {},
   "outputs": [],
   "source": [
    "df[['color1', 'color2']] = df['color'].str.lower().str.split('/', n=1, expand=True)\n",
    "df.drop('color', axis=1, inplace=True)"
   ]
  },
  {
   "cell_type": "code",
   "execution_count": 29,
   "id": "f9c30060-e594-4d76-b46f-7207ba201ce3",
   "metadata": {},
   "outputs": [
    {
     "data": {
      "text/html": [
       "<div>\n",
       "<style scoped>\n",
       "    .dataframe tbody tr th:only-of-type {\n",
       "        vertical-align: middle;\n",
       "    }\n",
       "\n",
       "    .dataframe tbody tr th {\n",
       "        vertical-align: top;\n",
       "    }\n",
       "\n",
       "    .dataframe thead th {\n",
       "        text-align: right;\n",
       "    }\n",
       "</style>\n",
       "<table border=\"1\" class=\"dataframe\">\n",
       "  <thead>\n",
       "    <tr style=\"text-align: right;\">\n",
       "      <th></th>\n",
       "      <th>animal_id</th>\n",
       "      <th>date_of_birth</th>\n",
       "      <th>datetime</th>\n",
       "      <th>month_year</th>\n",
       "      <th>outcome_type</th>\n",
       "      <th>outcome_subtype</th>\n",
       "      <th>animal_type</th>\n",
       "      <th>sex_upon_outcome</th>\n",
       "      <th>age_upon_outcome</th>\n",
       "      <th>breed</th>\n",
       "      <th>color1</th>\n",
       "      <th>color2</th>\n",
       "      <th>number</th>\n",
       "      <th>unit</th>\n",
       "    </tr>\n",
       "  </thead>\n",
       "  <tbody>\n",
       "    <tr>\n",
       "      <th>0</th>\n",
       "      <td>A668305</td>\n",
       "      <td>2012-12-01</td>\n",
       "      <td>2013-12-02T00:00:00-05:00</td>\n",
       "      <td>2013-12-01</td>\n",
       "      <td>Transfer</td>\n",
       "      <td>Transfer</td>\n",
       "      <td>Other</td>\n",
       "      <td>Unknown</td>\n",
       "      <td>1 year</td>\n",
       "      <td>Turtle Mix</td>\n",
       "      <td>brown</td>\n",
       "      <td>yellow</td>\n",
       "      <td>1</td>\n",
       "      <td>year</td>\n",
       "    </tr>\n",
       "    <tr>\n",
       "      <th>1</th>\n",
       "      <td>A673335</td>\n",
       "      <td>2012-02-22</td>\n",
       "      <td>2014-02-22T00:00:00-05:00</td>\n",
       "      <td>2014-02-01</td>\n",
       "      <td>Euthanasia</td>\n",
       "      <td>Euthanasia</td>\n",
       "      <td>Other</td>\n",
       "      <td>Unknown</td>\n",
       "      <td>2 years</td>\n",
       "      <td>Raccoon</td>\n",
       "      <td>black</td>\n",
       "      <td>gray</td>\n",
       "      <td>2</td>\n",
       "      <td>years</td>\n",
       "    </tr>\n",
       "    <tr>\n",
       "      <th>2</th>\n",
       "      <td>A675999</td>\n",
       "      <td>2013-04-03</td>\n",
       "      <td>2014-04-07T00:00:00-05:00</td>\n",
       "      <td>2014-04-01</td>\n",
       "      <td>Transfer</td>\n",
       "      <td>Transfer</td>\n",
       "      <td>Other</td>\n",
       "      <td>Unknown</td>\n",
       "      <td>1 year</td>\n",
       "      <td>Turtle Mix</td>\n",
       "      <td>green</td>\n",
       "      <td>None</td>\n",
       "      <td>1</td>\n",
       "      <td>year</td>\n",
       "    </tr>\n",
       "    <tr>\n",
       "      <th>4</th>\n",
       "      <td>A680855</td>\n",
       "      <td>2014-05-25</td>\n",
       "      <td>2014-06-10T00:00:00-05:00</td>\n",
       "      <td>2014-06-01</td>\n",
       "      <td>Transfer</td>\n",
       "      <td>Transfer</td>\n",
       "      <td>Bird</td>\n",
       "      <td>Unknown</td>\n",
       "      <td>2 weeks</td>\n",
       "      <td>Duck</td>\n",
       "      <td>yellow</td>\n",
       "      <td>black</td>\n",
       "      <td>2</td>\n",
       "      <td>weeks</td>\n",
       "    </tr>\n",
       "    <tr>\n",
       "      <th>5</th>\n",
       "      <td>A680857</td>\n",
       "      <td>2014-05-25</td>\n",
       "      <td>2014-06-10T00:00:00-05:00</td>\n",
       "      <td>2014-06-01</td>\n",
       "      <td>Transfer</td>\n",
       "      <td>Transfer</td>\n",
       "      <td>Bird</td>\n",
       "      <td>Unknown</td>\n",
       "      <td>2 weeks</td>\n",
       "      <td>Duck</td>\n",
       "      <td>yellow</td>\n",
       "      <td>black</td>\n",
       "      <td>2</td>\n",
       "      <td>weeks</td>\n",
       "    </tr>\n",
       "  </tbody>\n",
       "</table>\n",
       "</div>"
      ],
      "text/plain": [
       "  animal_id date_of_birth                   datetime month_year outcome_type  \\\n",
       "0   A668305    2012-12-01  2013-12-02T00:00:00-05:00 2013-12-01     Transfer   \n",
       "1   A673335    2012-02-22  2014-02-22T00:00:00-05:00 2014-02-01   Euthanasia   \n",
       "2   A675999    2013-04-03  2014-04-07T00:00:00-05:00 2014-04-01     Transfer   \n",
       "4   A680855    2014-05-25  2014-06-10T00:00:00-05:00 2014-06-01     Transfer   \n",
       "5   A680857    2014-05-25  2014-06-10T00:00:00-05:00 2014-06-01     Transfer   \n",
       "\n",
       "  outcome_subtype animal_type sex_upon_outcome age_upon_outcome       breed  \\\n",
       "0        Transfer       Other          Unknown           1 year  Turtle Mix   \n",
       "1      Euthanasia       Other          Unknown          2 years     Raccoon   \n",
       "2        Transfer       Other          Unknown           1 year  Turtle Mix   \n",
       "4        Transfer        Bird          Unknown          2 weeks        Duck   \n",
       "5        Transfer        Bird          Unknown          2 weeks        Duck   \n",
       "\n",
       "   color1  color2 number   unit  \n",
       "0   brown  yellow      1   year  \n",
       "1   black    gray      2  years  \n",
       "2   green    None      1   year  \n",
       "4  yellow   black      2  weeks  \n",
       "5  yellow   black      2  weeks  "
      ]
     },
     "execution_count": 29,
     "metadata": {},
     "output_type": "execute_result"
    }
   ],
   "source": [
    "df.head()"
   ]
  },
  {
   "cell_type": "code",
   "execution_count": 30,
   "id": "8c5804b3-12ae-4f3e-9bcb-5705ec9a4fc2",
   "metadata": {},
   "outputs": [],
   "source": [
    "df['color1'] = df['color1'].astype('category')\n",
    "df['color2'] = df['color2'].astype('category')"
   ]
  },
  {
   "cell_type": "code",
   "execution_count": 31,
   "id": "e9114ee3-229a-45e4-9214-2ef89a691cc7",
   "metadata": {},
   "outputs": [
    {
     "name": "stdout",
     "output_type": "stream",
     "text": [
      "<class 'pandas.core.frame.DataFrame'>\n",
      "Index: 173719 entries, 0 to 173774\n",
      "Data columns (total 14 columns):\n",
      " #   Column            Non-Null Count   Dtype         \n",
      "---  ------            --------------   -----         \n",
      " 0   animal_id         173719 non-null  object        \n",
      " 1   date_of_birth     173719 non-null  datetime64[ns]\n",
      " 2   datetime          173719 non-null  object        \n",
      " 3   month_year        173719 non-null  datetime64[ns]\n",
      " 4   outcome_type      173719 non-null  category      \n",
      " 5   outcome_subtype   173719 non-null  category      \n",
      " 6   animal_type       173719 non-null  category      \n",
      " 7   sex_upon_outcome  173719 non-null  category      \n",
      " 8   age_upon_outcome  173719 non-null  object        \n",
      " 9   breed             173719 non-null  object        \n",
      " 10  color1            173719 non-null  category      \n",
      " 11  color2            91988 non-null   category      \n",
      " 12  number            173719 non-null  object        \n",
      " 13  unit              173719 non-null  object        \n",
      "dtypes: category(6), datetime64[ns](2), object(6)\n",
      "memory usage: 12.9+ MB\n"
     ]
    }
   ],
   "source": [
    "df.info()"
   ]
  },
  {
   "cell_type": "code",
   "execution_count": 32,
   "id": "848a53aa-a80a-41c3-90ee-84aa1c614cf4",
   "metadata": {},
   "outputs": [],
   "source": [
    " # standardize age into days"
   ]
  },
  {
   "cell_type": "code",
   "execution_count": 33,
   "id": "62643b82-4377-4790-8bb8-b82ec14b6d3a",
   "metadata": {},
   "outputs": [],
   "source": [
    "df[['number', 'unit']] = df['age_upon_outcome'].str.split(' ', n=1, expand=True)"
   ]
  },
  {
   "cell_type": "code",
   "execution_count": 34,
   "id": "f5a10c2f-6f6a-4584-bc00-15d40bdb99b4",
   "metadata": {},
   "outputs": [
    {
     "data": {
      "text/plain": [
       "array(['1', '2', '4', '5', '6', '8', '3', '13', '14', '12', '10', '9',\n",
       "       '7', '11', '0', '20', '25', '17', '18', '15', '16', '19', '22',\n",
       "       '-1', '-3', '-2', '24', '-4', '21', '23', '30', '28'], dtype=object)"
      ]
     },
     "execution_count": 34,
     "metadata": {},
     "output_type": "execute_result"
    }
   ],
   "source": [
    "df['number'].unique()"
   ]
  },
  {
   "cell_type": "code",
   "execution_count": 35,
   "id": "4610d2dc-44e9-4c07-9e30-a10de60ca149",
   "metadata": {},
   "outputs": [],
   "source": [
    "def standardize_age(num, unit):\n",
    "    if 'year' in unit:\n",
    "        return int(num) * 365\n",
    "    elif 'month' in unit:\n",
    "        return int(num) * 30.5\n",
    "    elif 'week' in unit:\n",
    "        return int(num) * 7\n",
    "    elif 'day' in unit:\n",
    "        return int(num)\n",
    "    else:\n",
    "        raise Exception('Not a year, month, week, or day unit')\n",
    "        "
   ]
  },
  {
   "cell_type": "code",
   "execution_count": 36,
   "id": "01ba990f-c01c-48ca-a7f2-7de851db7e07",
   "metadata": {},
   "outputs": [],
   "source": [
    "df['age_upon_outcome'] = df.apply(lambda row: standardize_age(row['number'], row['unit']), axis=1)\n"
   ]
  },
  {
   "cell_type": "code",
   "execution_count": 37,
   "id": "6a250450-ccb5-43b4-af2d-5caf4bdcd7b5",
   "metadata": {},
   "outputs": [
    {
     "data": {
      "text/html": [
       "<div>\n",
       "<style scoped>\n",
       "    .dataframe tbody tr th:only-of-type {\n",
       "        vertical-align: middle;\n",
       "    }\n",
       "\n",
       "    .dataframe tbody tr th {\n",
       "        vertical-align: top;\n",
       "    }\n",
       "\n",
       "    .dataframe thead th {\n",
       "        text-align: right;\n",
       "    }\n",
       "</style>\n",
       "<table border=\"1\" class=\"dataframe\">\n",
       "  <thead>\n",
       "    <tr style=\"text-align: right;\">\n",
       "      <th></th>\n",
       "      <th>animal_id</th>\n",
       "      <th>date_of_birth</th>\n",
       "      <th>datetime</th>\n",
       "      <th>month_year</th>\n",
       "      <th>outcome_type</th>\n",
       "      <th>outcome_subtype</th>\n",
       "      <th>animal_type</th>\n",
       "      <th>sex_upon_outcome</th>\n",
       "      <th>age_upon_outcome</th>\n",
       "      <th>breed</th>\n",
       "      <th>color1</th>\n",
       "      <th>color2</th>\n",
       "    </tr>\n",
       "  </thead>\n",
       "  <tbody>\n",
       "    <tr>\n",
       "      <th>0</th>\n",
       "      <td>A668305</td>\n",
       "      <td>2012-12-01</td>\n",
       "      <td>2013-12-02T00:00:00-05:00</td>\n",
       "      <td>2013-12-01</td>\n",
       "      <td>Transfer</td>\n",
       "      <td>Transfer</td>\n",
       "      <td>Other</td>\n",
       "      <td>Unknown</td>\n",
       "      <td>365.0</td>\n",
       "      <td>Turtle Mix</td>\n",
       "      <td>brown</td>\n",
       "      <td>yellow</td>\n",
       "    </tr>\n",
       "    <tr>\n",
       "      <th>1</th>\n",
       "      <td>A673335</td>\n",
       "      <td>2012-02-22</td>\n",
       "      <td>2014-02-22T00:00:00-05:00</td>\n",
       "      <td>2014-02-01</td>\n",
       "      <td>Euthanasia</td>\n",
       "      <td>Euthanasia</td>\n",
       "      <td>Other</td>\n",
       "      <td>Unknown</td>\n",
       "      <td>730.0</td>\n",
       "      <td>Raccoon</td>\n",
       "      <td>black</td>\n",
       "      <td>gray</td>\n",
       "    </tr>\n",
       "    <tr>\n",
       "      <th>2</th>\n",
       "      <td>A675999</td>\n",
       "      <td>2013-04-03</td>\n",
       "      <td>2014-04-07T00:00:00-05:00</td>\n",
       "      <td>2014-04-01</td>\n",
       "      <td>Transfer</td>\n",
       "      <td>Transfer</td>\n",
       "      <td>Other</td>\n",
       "      <td>Unknown</td>\n",
       "      <td>365.0</td>\n",
       "      <td>Turtle Mix</td>\n",
       "      <td>green</td>\n",
       "      <td>NaN</td>\n",
       "    </tr>\n",
       "    <tr>\n",
       "      <th>4</th>\n",
       "      <td>A680855</td>\n",
       "      <td>2014-05-25</td>\n",
       "      <td>2014-06-10T00:00:00-05:00</td>\n",
       "      <td>2014-06-01</td>\n",
       "      <td>Transfer</td>\n",
       "      <td>Transfer</td>\n",
       "      <td>Bird</td>\n",
       "      <td>Unknown</td>\n",
       "      <td>14.0</td>\n",
       "      <td>Duck</td>\n",
       "      <td>yellow</td>\n",
       "      <td>black</td>\n",
       "    </tr>\n",
       "    <tr>\n",
       "      <th>5</th>\n",
       "      <td>A680857</td>\n",
       "      <td>2014-05-25</td>\n",
       "      <td>2014-06-10T00:00:00-05:00</td>\n",
       "      <td>2014-06-01</td>\n",
       "      <td>Transfer</td>\n",
       "      <td>Transfer</td>\n",
       "      <td>Bird</td>\n",
       "      <td>Unknown</td>\n",
       "      <td>14.0</td>\n",
       "      <td>Duck</td>\n",
       "      <td>yellow</td>\n",
       "      <td>black</td>\n",
       "    </tr>\n",
       "    <tr>\n",
       "      <th>...</th>\n",
       "      <td>...</td>\n",
       "      <td>...</td>\n",
       "      <td>...</td>\n",
       "      <td>...</td>\n",
       "      <td>...</td>\n",
       "      <td>...</td>\n",
       "      <td>...</td>\n",
       "      <td>...</td>\n",
       "      <td>...</td>\n",
       "      <td>...</td>\n",
       "      <td>...</td>\n",
       "      <td>...</td>\n",
       "    </tr>\n",
       "    <tr>\n",
       "      <th>173770</th>\n",
       "      <td>A671565</td>\n",
       "      <td>2013-07-06</td>\n",
       "      <td>2014-02-07T10:14:00</td>\n",
       "      <td>2014-02-01</td>\n",
       "      <td>Transfer</td>\n",
       "      <td>Transfer</td>\n",
       "      <td>Cat</td>\n",
       "      <td>Spayed Female</td>\n",
       "      <td>213.5</td>\n",
       "      <td>Domestic Medium Hair Mix</td>\n",
       "      <td>brown tabby</td>\n",
       "      <td>NaN</td>\n",
       "    </tr>\n",
       "    <tr>\n",
       "      <th>173771</th>\n",
       "      <td>A675119</td>\n",
       "      <td>2014-02-16</td>\n",
       "      <td>2014-03-27T08:00:00</td>\n",
       "      <td>2014-03-01</td>\n",
       "      <td>Transfer</td>\n",
       "      <td>Transfer</td>\n",
       "      <td>Dog</td>\n",
       "      <td>Intact Male</td>\n",
       "      <td>30.5</td>\n",
       "      <td>Pomeranian Mix</td>\n",
       "      <td>white</td>\n",
       "      <td>brown</td>\n",
       "    </tr>\n",
       "    <tr>\n",
       "      <th>173772</th>\n",
       "      <td>A677839</td>\n",
       "      <td>2014-01-29</td>\n",
       "      <td>2014-05-03T08:00:00</td>\n",
       "      <td>2014-05-01</td>\n",
       "      <td>Transfer</td>\n",
       "      <td>Transfer</td>\n",
       "      <td>Other</td>\n",
       "      <td>Unknown</td>\n",
       "      <td>91.5</td>\n",
       "      <td>Lop-English Mix</td>\n",
       "      <td>chocolate</td>\n",
       "      <td>NaN</td>\n",
       "    </tr>\n",
       "    <tr>\n",
       "      <th>173773</th>\n",
       "      <td>A678559</td>\n",
       "      <td>2011-05-10</td>\n",
       "      <td>2014-05-14T08:00:00</td>\n",
       "      <td>2014-05-01</td>\n",
       "      <td>Transfer</td>\n",
       "      <td>Transfer</td>\n",
       "      <td>Dog</td>\n",
       "      <td>Intact Male</td>\n",
       "      <td>1095.0</td>\n",
       "      <td>Pekingese/Lhasa Apso</td>\n",
       "      <td>buff</td>\n",
       "      <td>NaN</td>\n",
       "    </tr>\n",
       "    <tr>\n",
       "      <th>173774</th>\n",
       "      <td>A678592</td>\n",
       "      <td>2013-05-10</td>\n",
       "      <td>2014-05-14T08:00:00</td>\n",
       "      <td>2014-05-01</td>\n",
       "      <td>Transfer</td>\n",
       "      <td>Transfer</td>\n",
       "      <td>Other</td>\n",
       "      <td>Unknown</td>\n",
       "      <td>365.0</td>\n",
       "      <td>Rabbit Sh Mix</td>\n",
       "      <td>black</td>\n",
       "      <td>NaN</td>\n",
       "    </tr>\n",
       "  </tbody>\n",
       "</table>\n",
       "<p>173719 rows × 12 columns</p>\n",
       "</div>"
      ],
      "text/plain": [
       "       animal_id date_of_birth                   datetime month_year  \\\n",
       "0        A668305    2012-12-01  2013-12-02T00:00:00-05:00 2013-12-01   \n",
       "1        A673335    2012-02-22  2014-02-22T00:00:00-05:00 2014-02-01   \n",
       "2        A675999    2013-04-03  2014-04-07T00:00:00-05:00 2014-04-01   \n",
       "4        A680855    2014-05-25  2014-06-10T00:00:00-05:00 2014-06-01   \n",
       "5        A680857    2014-05-25  2014-06-10T00:00:00-05:00 2014-06-01   \n",
       "...          ...           ...                        ...        ...   \n",
       "173770   A671565    2013-07-06        2014-02-07T10:14:00 2014-02-01   \n",
       "173771   A675119    2014-02-16        2014-03-27T08:00:00 2014-03-01   \n",
       "173772   A677839    2014-01-29        2014-05-03T08:00:00 2014-05-01   \n",
       "173773   A678559    2011-05-10        2014-05-14T08:00:00 2014-05-01   \n",
       "173774   A678592    2013-05-10        2014-05-14T08:00:00 2014-05-01   \n",
       "\n",
       "       outcome_type outcome_subtype animal_type sex_upon_outcome  \\\n",
       "0          Transfer        Transfer       Other          Unknown   \n",
       "1        Euthanasia      Euthanasia       Other          Unknown   \n",
       "2          Transfer        Transfer       Other          Unknown   \n",
       "4          Transfer        Transfer        Bird          Unknown   \n",
       "5          Transfer        Transfer        Bird          Unknown   \n",
       "...             ...             ...         ...              ...   \n",
       "173770     Transfer        Transfer         Cat    Spayed Female   \n",
       "173771     Transfer        Transfer         Dog      Intact Male   \n",
       "173772     Transfer        Transfer       Other          Unknown   \n",
       "173773     Transfer        Transfer         Dog      Intact Male   \n",
       "173774     Transfer        Transfer       Other          Unknown   \n",
       "\n",
       "        age_upon_outcome                     breed       color1  color2  \n",
       "0                  365.0                Turtle Mix        brown  yellow  \n",
       "1                  730.0                   Raccoon        black    gray  \n",
       "2                  365.0                Turtle Mix        green     NaN  \n",
       "4                   14.0                      Duck       yellow   black  \n",
       "5                   14.0                      Duck       yellow   black  \n",
       "...                  ...                       ...          ...     ...  \n",
       "173770             213.5  Domestic Medium Hair Mix  brown tabby     NaN  \n",
       "173771              30.5            Pomeranian Mix        white   brown  \n",
       "173772              91.5           Lop-English Mix    chocolate     NaN  \n",
       "173773            1095.0      Pekingese/Lhasa Apso         buff     NaN  \n",
       "173774             365.0             Rabbit Sh Mix        black     NaN  \n",
       "\n",
       "[173719 rows x 12 columns]"
      ]
     },
     "execution_count": 37,
     "metadata": {},
     "output_type": "execute_result"
    }
   ],
   "source": [
    "df.drop(['number', 'unit'], axis=1)"
   ]
  },
  {
   "cell_type": "code",
   "execution_count": null,
   "id": "a7236b73-cfae-48aa-bb51-7b88b869a9d9",
   "metadata": {},
   "outputs": [],
   "source": [
    "# derived columns"
   ]
  },
  {
   "cell_type": "code",
   "execution_count": 41,
   "id": "883b8248-70f2-4357-9363-cc9426fa3ab8",
   "metadata": {},
   "outputs": [],
   "source": [
    "df['outcome_type'] = df['outcome_type'].str.lower()\n",
    "df['is_adoption'] = df['outcome_type'] == 'adoption'"
   ]
  },
  {
   "cell_type": "code",
   "execution_count": 50,
   "id": "297e14e8-b49a-4f24-9cf1-8b6fc563351d",
   "metadata": {},
   "outputs": [
    {
     "data": {
      "text/plain": [
       "array(['Black Mouth Cur Mix', 'Chihuahua Shorthair Mix', 'Shiba Inu Mix',\n",
       "       ..., 'Dachshund/Bulldog', 'Labrador Retriever/Affenpinscher',\n",
       "       'Pekingese/Lhasa Apso'], dtype=object)"
      ]
     },
     "execution_count": 50,
     "metadata": {},
     "output_type": "execute_result"
    }
   ],
   "source": [
    "df['animal_type'] = df['animal_type'].str.lower()\n",
    "df[df['animal_type'] == 'dog']['breed'].unique()"
   ]
  },
  {
   "cell_type": "code",
   "execution_count": 53,
   "id": "c6952699-ee68-487a-a26f-ecf24d10d960",
   "metadata": {},
   "outputs": [
    {
     "data": {
      "text/html": [
       "<div>\n",
       "<style scoped>\n",
       "    .dataframe tbody tr th:only-of-type {\n",
       "        vertical-align: middle;\n",
       "    }\n",
       "\n",
       "    .dataframe tbody tr th {\n",
       "        vertical-align: top;\n",
       "    }\n",
       "\n",
       "    .dataframe thead th {\n",
       "        text-align: right;\n",
       "    }\n",
       "</style>\n",
       "<table border=\"1\" class=\"dataframe\">\n",
       "  <thead>\n",
       "    <tr style=\"text-align: right;\">\n",
       "      <th></th>\n",
       "      <th>animal_id</th>\n",
       "      <th>date_of_birth</th>\n",
       "      <th>datetime</th>\n",
       "      <th>month_year</th>\n",
       "      <th>outcome_type</th>\n",
       "      <th>outcome_subtype</th>\n",
       "      <th>animal_type</th>\n",
       "      <th>sex_upon_outcome</th>\n",
       "      <th>age_upon_outcome</th>\n",
       "      <th>color1</th>\n",
       "      <th>color2</th>\n",
       "      <th>number</th>\n",
       "      <th>unit</th>\n",
       "      <th>is_adoption</th>\n",
       "      <th>breed1</th>\n",
       "      <th>breed2</th>\n",
       "    </tr>\n",
       "  </thead>\n",
       "  <tbody>\n",
       "    <tr>\n",
       "      <th>0</th>\n",
       "      <td>A668305</td>\n",
       "      <td>2012-12-01</td>\n",
       "      <td>2013-12-02T00:00:00-05:00</td>\n",
       "      <td>2013-12-01</td>\n",
       "      <td>transfer</td>\n",
       "      <td>transfer</td>\n",
       "      <td>other</td>\n",
       "      <td>Unknown</td>\n",
       "      <td>365.0</td>\n",
       "      <td>brown</td>\n",
       "      <td>yellow</td>\n",
       "      <td>1</td>\n",
       "      <td>year</td>\n",
       "      <td>False</td>\n",
       "      <td>Turtle Mix</td>\n",
       "      <td>None</td>\n",
       "    </tr>\n",
       "    <tr>\n",
       "      <th>1</th>\n",
       "      <td>A673335</td>\n",
       "      <td>2012-02-22</td>\n",
       "      <td>2014-02-22T00:00:00-05:00</td>\n",
       "      <td>2014-02-01</td>\n",
       "      <td>euthanasia</td>\n",
       "      <td>euthanasia</td>\n",
       "      <td>other</td>\n",
       "      <td>Unknown</td>\n",
       "      <td>730.0</td>\n",
       "      <td>black</td>\n",
       "      <td>gray</td>\n",
       "      <td>2</td>\n",
       "      <td>years</td>\n",
       "      <td>False</td>\n",
       "      <td>Raccoon</td>\n",
       "      <td>None</td>\n",
       "    </tr>\n",
       "    <tr>\n",
       "      <th>2</th>\n",
       "      <td>A675999</td>\n",
       "      <td>2013-04-03</td>\n",
       "      <td>2014-04-07T00:00:00-05:00</td>\n",
       "      <td>2014-04-01</td>\n",
       "      <td>transfer</td>\n",
       "      <td>transfer</td>\n",
       "      <td>other</td>\n",
       "      <td>Unknown</td>\n",
       "      <td>365.0</td>\n",
       "      <td>green</td>\n",
       "      <td>NaN</td>\n",
       "      <td>1</td>\n",
       "      <td>year</td>\n",
       "      <td>False</td>\n",
       "      <td>Turtle Mix</td>\n",
       "      <td>None</td>\n",
       "    </tr>\n",
       "    <tr>\n",
       "      <th>4</th>\n",
       "      <td>A680855</td>\n",
       "      <td>2014-05-25</td>\n",
       "      <td>2014-06-10T00:00:00-05:00</td>\n",
       "      <td>2014-06-01</td>\n",
       "      <td>transfer</td>\n",
       "      <td>transfer</td>\n",
       "      <td>bird</td>\n",
       "      <td>Unknown</td>\n",
       "      <td>14.0</td>\n",
       "      <td>yellow</td>\n",
       "      <td>black</td>\n",
       "      <td>2</td>\n",
       "      <td>weeks</td>\n",
       "      <td>False</td>\n",
       "      <td>Duck</td>\n",
       "      <td>None</td>\n",
       "    </tr>\n",
       "    <tr>\n",
       "      <th>5</th>\n",
       "      <td>A680857</td>\n",
       "      <td>2014-05-25</td>\n",
       "      <td>2014-06-10T00:00:00-05:00</td>\n",
       "      <td>2014-06-01</td>\n",
       "      <td>transfer</td>\n",
       "      <td>transfer</td>\n",
       "      <td>bird</td>\n",
       "      <td>Unknown</td>\n",
       "      <td>14.0</td>\n",
       "      <td>yellow</td>\n",
       "      <td>black</td>\n",
       "      <td>2</td>\n",
       "      <td>weeks</td>\n",
       "      <td>False</td>\n",
       "      <td>Duck</td>\n",
       "      <td>None</td>\n",
       "    </tr>\n",
       "    <tr>\n",
       "      <th>...</th>\n",
       "      <td>...</td>\n",
       "      <td>...</td>\n",
       "      <td>...</td>\n",
       "      <td>...</td>\n",
       "      <td>...</td>\n",
       "      <td>...</td>\n",
       "      <td>...</td>\n",
       "      <td>...</td>\n",
       "      <td>...</td>\n",
       "      <td>...</td>\n",
       "      <td>...</td>\n",
       "      <td>...</td>\n",
       "      <td>...</td>\n",
       "      <td>...</td>\n",
       "      <td>...</td>\n",
       "      <td>...</td>\n",
       "    </tr>\n",
       "    <tr>\n",
       "      <th>173770</th>\n",
       "      <td>A671565</td>\n",
       "      <td>2013-07-06</td>\n",
       "      <td>2014-02-07T10:14:00</td>\n",
       "      <td>2014-02-01</td>\n",
       "      <td>transfer</td>\n",
       "      <td>transfer</td>\n",
       "      <td>cat</td>\n",
       "      <td>Spayed Female</td>\n",
       "      <td>213.5</td>\n",
       "      <td>brown tabby</td>\n",
       "      <td>NaN</td>\n",
       "      <td>7</td>\n",
       "      <td>months</td>\n",
       "      <td>False</td>\n",
       "      <td>Domestic Medium Hair Mix</td>\n",
       "      <td>None</td>\n",
       "    </tr>\n",
       "    <tr>\n",
       "      <th>173771</th>\n",
       "      <td>A675119</td>\n",
       "      <td>2014-02-16</td>\n",
       "      <td>2014-03-27T08:00:00</td>\n",
       "      <td>2014-03-01</td>\n",
       "      <td>transfer</td>\n",
       "      <td>transfer</td>\n",
       "      <td>dog</td>\n",
       "      <td>Intact Male</td>\n",
       "      <td>30.5</td>\n",
       "      <td>white</td>\n",
       "      <td>brown</td>\n",
       "      <td>1</td>\n",
       "      <td>month</td>\n",
       "      <td>False</td>\n",
       "      <td>Pomeranian Mix</td>\n",
       "      <td>None</td>\n",
       "    </tr>\n",
       "    <tr>\n",
       "      <th>173772</th>\n",
       "      <td>A677839</td>\n",
       "      <td>2014-01-29</td>\n",
       "      <td>2014-05-03T08:00:00</td>\n",
       "      <td>2014-05-01</td>\n",
       "      <td>transfer</td>\n",
       "      <td>transfer</td>\n",
       "      <td>other</td>\n",
       "      <td>Unknown</td>\n",
       "      <td>91.5</td>\n",
       "      <td>chocolate</td>\n",
       "      <td>NaN</td>\n",
       "      <td>3</td>\n",
       "      <td>months</td>\n",
       "      <td>False</td>\n",
       "      <td>Lop-English Mix</td>\n",
       "      <td>None</td>\n",
       "    </tr>\n",
       "    <tr>\n",
       "      <th>173773</th>\n",
       "      <td>A678559</td>\n",
       "      <td>2011-05-10</td>\n",
       "      <td>2014-05-14T08:00:00</td>\n",
       "      <td>2014-05-01</td>\n",
       "      <td>transfer</td>\n",
       "      <td>transfer</td>\n",
       "      <td>dog</td>\n",
       "      <td>Intact Male</td>\n",
       "      <td>1095.0</td>\n",
       "      <td>buff</td>\n",
       "      <td>NaN</td>\n",
       "      <td>3</td>\n",
       "      <td>years</td>\n",
       "      <td>False</td>\n",
       "      <td>Pekingese</td>\n",
       "      <td>Lhasa Apso</td>\n",
       "    </tr>\n",
       "    <tr>\n",
       "      <th>173774</th>\n",
       "      <td>A678592</td>\n",
       "      <td>2013-05-10</td>\n",
       "      <td>2014-05-14T08:00:00</td>\n",
       "      <td>2014-05-01</td>\n",
       "      <td>transfer</td>\n",
       "      <td>transfer</td>\n",
       "      <td>other</td>\n",
       "      <td>Unknown</td>\n",
       "      <td>365.0</td>\n",
       "      <td>black</td>\n",
       "      <td>NaN</td>\n",
       "      <td>1</td>\n",
       "      <td>year</td>\n",
       "      <td>False</td>\n",
       "      <td>Rabbit Sh Mix</td>\n",
       "      <td>None</td>\n",
       "    </tr>\n",
       "  </tbody>\n",
       "</table>\n",
       "<p>173719 rows × 16 columns</p>\n",
       "</div>"
      ],
      "text/plain": [
       "       animal_id date_of_birth                   datetime month_year  \\\n",
       "0        A668305    2012-12-01  2013-12-02T00:00:00-05:00 2013-12-01   \n",
       "1        A673335    2012-02-22  2014-02-22T00:00:00-05:00 2014-02-01   \n",
       "2        A675999    2013-04-03  2014-04-07T00:00:00-05:00 2014-04-01   \n",
       "4        A680855    2014-05-25  2014-06-10T00:00:00-05:00 2014-06-01   \n",
       "5        A680857    2014-05-25  2014-06-10T00:00:00-05:00 2014-06-01   \n",
       "...          ...           ...                        ...        ...   \n",
       "173770   A671565    2013-07-06        2014-02-07T10:14:00 2014-02-01   \n",
       "173771   A675119    2014-02-16        2014-03-27T08:00:00 2014-03-01   \n",
       "173772   A677839    2014-01-29        2014-05-03T08:00:00 2014-05-01   \n",
       "173773   A678559    2011-05-10        2014-05-14T08:00:00 2014-05-01   \n",
       "173774   A678592    2013-05-10        2014-05-14T08:00:00 2014-05-01   \n",
       "\n",
       "       outcome_type outcome_subtype animal_type sex_upon_outcome  \\\n",
       "0          transfer        transfer       other          Unknown   \n",
       "1        euthanasia      euthanasia       other          Unknown   \n",
       "2          transfer        transfer       other          Unknown   \n",
       "4          transfer        transfer        bird          Unknown   \n",
       "5          transfer        transfer        bird          Unknown   \n",
       "...             ...             ...         ...              ...   \n",
       "173770     transfer        transfer         cat    Spayed Female   \n",
       "173771     transfer        transfer         dog      Intact Male   \n",
       "173772     transfer        transfer       other          Unknown   \n",
       "173773     transfer        transfer         dog      Intact Male   \n",
       "173774     transfer        transfer       other          Unknown   \n",
       "\n",
       "        age_upon_outcome       color1  color2 number    unit  is_adoption  \\\n",
       "0                  365.0        brown  yellow      1    year        False   \n",
       "1                  730.0        black    gray      2   years        False   \n",
       "2                  365.0        green     NaN      1    year        False   \n",
       "4                   14.0       yellow   black      2   weeks        False   \n",
       "5                   14.0       yellow   black      2   weeks        False   \n",
       "...                  ...          ...     ...    ...     ...          ...   \n",
       "173770             213.5  brown tabby     NaN      7  months        False   \n",
       "173771              30.5        white   brown      1   month        False   \n",
       "173772              91.5    chocolate     NaN      3  months        False   \n",
       "173773            1095.0         buff     NaN      3   years        False   \n",
       "173774             365.0        black     NaN      1    year        False   \n",
       "\n",
       "                          breed1      breed2  \n",
       "0                     Turtle Mix        None  \n",
       "1                        Raccoon        None  \n",
       "2                     Turtle Mix        None  \n",
       "4                           Duck        None  \n",
       "5                           Duck        None  \n",
       "...                          ...         ...  \n",
       "173770  Domestic Medium Hair Mix        None  \n",
       "173771            Pomeranian Mix        None  \n",
       "173772           Lop-English Mix        None  \n",
       "173773                 Pekingese  Lhasa Apso  \n",
       "173774             Rabbit Sh Mix        None  \n",
       "\n",
       "[173719 rows x 16 columns]"
      ]
     },
     "execution_count": 53,
     "metadata": {},
     "output_type": "execute_result"
    }
   ],
   "source": [
    "df[['breed1', 'breed2']] = df['breed'].str.lower().str.split('/', n=1, expand=True)\n",
    "df.drop('breed', axis=1)"
   ]
  },
  {
   "cell_type": "code",
   "execution_count": 68,
   "id": "a561f60a-ee5a-4b10-88c6-1de2a2b2dd8c",
   "metadata": {},
   "outputs": [
    {
     "data": {
      "text/plain": [
       "0.07765414260961669"
      ]
     },
     "execution_count": 68,
     "metadata": {},
     "output_type": "execute_result"
    }
   ],
   "source": [
    "(df['sex_upon_outcome'] == 'Unknown').sum() / df.shape[0]"
   ]
  },
  {
   "cell_type": "code",
   "execution_count": null,
   "id": "5f5fa211-4a2d-4e3f-8064-63136c1ec4a7",
   "metadata": {},
   "outputs": [],
   "source": []
  },
  {
   "cell_type": "code",
   "execution_count": null,
   "id": "4dabc164-37aa-413f-8873-c6d7598df7d0",
   "metadata": {},
   "outputs": [],
   "source": []
  },
  {
   "cell_type": "code",
   "execution_count": null,
   "id": "1fa35f1c-8900-47fb-a72d-95e375470cb3",
   "metadata": {},
   "outputs": [],
   "source": []
  },
  {
   "cell_type": "code",
   "execution_count": null,
   "id": "eb4cc851-330d-435e-a999-cbf68067417d",
   "metadata": {},
   "outputs": [],
   "source": []
  }
 ],
 "metadata": {
  "kernelspec": {
   "display_name": "Python 3 (ipykernel)",
   "language": "python",
   "name": "python3"
  },
  "language_info": {
   "codemirror_mode": {
    "name": "ipython",
    "version": 3
   },
   "file_extension": ".py",
   "mimetype": "text/x-python",
   "name": "python",
   "nbconvert_exporter": "python",
   "pygments_lexer": "ipython3",
   "version": "3.12.1"
  }
 },
 "nbformat": 4,
 "nbformat_minor": 5
}
