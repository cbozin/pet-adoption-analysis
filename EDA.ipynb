{
 "cells": [
  {
   "cell_type": "markdown",
   "id": "36922526-e9a9-4801-b530-4957ecffe13f",
   "metadata": {},
   "source": [
    "# Exploratory Data Analysis"
   ]
  },
  {
   "cell_type": "code",
   "execution_count": null,
   "id": "64e40559-e97e-40a4-8df9-3d25755c654c",
   "metadata": {},
   "outputs": [],
   "source": [
    "import pandas as pd\n",
    "url = \"https://data.austintexas.gov/api/views/9t4d-g238/rows.csv?accessType=DOWNLOAD\"\n",
    "\n",
    "df = pd.read_csv(url)"
   ]
  },
  {
   "cell_type": "code",
   "execution_count": null,
   "id": "49f82835-739e-4c79-b8aa-9108caba5485",
   "metadata": {},
   "outputs": [],
   "source": [
    "df.head()"
   ]
  },
  {
   "cell_type": "code",
   "execution_count": null,
   "id": "7c562220-31f8-414a-9c5b-b2329f5fa8a9",
   "metadata": {},
   "outputs": [],
   "source": [
    "df.info()"
   ]
  },
  {
   "cell_type": "code",
   "execution_count": null,
   "id": "5d62e969-0875-45d6-b1fd-3e1f1459177e",
   "metadata": {},
   "outputs": [],
   "source": [
    "df.info()"
   ]
  },
  {
   "cell_type": "markdown",
   "id": "eed5cf3b-c65f-4111-ba1d-bca9e70293e0",
   "metadata": {},
   "source": [
    "### Nulls"
   ]
  },
  {
   "cell_type": "code",
   "execution_count": null,
   "id": "37646908-3b5a-4c11-9b5c-d37eaa0291aa",
   "metadata": {},
   "outputs": [],
   "source": [
    "df.isnull().sum()"
   ]
  },
  {
   "cell_type": "code",
   "execution_count": null,
   "id": "4eb8d4e4-609e-4412-851f-ed33e19c7e5f",
   "metadata": {},
   "outputs": [],
   "source": [
    "round((df.isnull().mean() * 100), 2)"
   ]
  },
  {
   "cell_type": "markdown",
   "id": "14e5fd0d-d172-4596-8383-f00e53c0bb6e",
   "metadata": {},
   "source": [
    "### Unique Values"
   ]
  },
  {
   "cell_type": "code",
   "execution_count": null,
   "id": "e22cefcd-84c6-4cda-aa86-2c0b17cac852",
   "metadata": {},
   "outputs": [],
   "source": [
    "df['Outcome Type'].unique()"
   ]
  },
  {
   "cell_type": "code",
   "execution_count": null,
   "id": "8ab159cf-c00d-4873-b408-ec9b297de385",
   "metadata": {},
   "outputs": [],
   "source": [
    "df['Outcome Subtype'].unique()"
   ]
  },
  {
   "cell_type": "code",
   "execution_count": null,
   "id": "5827d1e7-05c9-4f21-b0ac-a7cd16f698db",
   "metadata": {},
   "outputs": [],
   "source": [
    "df['Animal Type'].unique()"
   ]
  },
  {
   "cell_type": "code",
   "execution_count": null,
   "id": "1262ac7b-ee60-49df-bd2d-33913f670c18",
   "metadata": {},
   "outputs": [],
   "source": [
    "df['Sex upon Outcome'].unique()"
   ]
  },
  {
   "cell_type": "code",
   "execution_count": null,
   "id": "89e4b772-88cd-413b-86ce-7bdefe652220",
   "metadata": {},
   "outputs": [],
   "source": [
    " df.nunique()"
   ]
  },
  {
   "cell_type": "markdown",
   "id": "16877962-e594-4de6-9605-17b028935238",
   "metadata": {},
   "source": [
    "### Duplicates"
   ]
  },
  {
   "cell_type": "code",
   "execution_count": null,
   "id": "da0d4d89-cf6c-4967-a890-cc61731f4109",
   "metadata": {},
   "outputs": [],
   "source": [
    "df.duplicated().sum()"
   ]
  },
  {
   "cell_type": "markdown",
   "id": "4d3dfc37-dc52-4745-af67-5745c5342e4b",
   "metadata": {},
   "source": [
    "### Breed & Color Columns"
   ]
  },
  {
   "cell_type": "code",
   "execution_count": null,
   "id": "a21a8bbb-1c18-43ee-94c4-899a0ec9c98c",
   "metadata": {
    "scrolled": true
   },
   "outputs": [],
   "source": [
    "df['Animal Type'].value_counts()"
   ]
  },
  {
   "cell_type": "code",
   "execution_count": null,
   "id": "f0b078e2-1fd6-4102-8c80-1eb5f4b227b1",
   "metadata": {},
   "outputs": [],
   "source": [
    "df[df['Animal Type'] == \"Livestock\"]['Breed'].unique()"
   ]
  },
  {
   "cell_type": "code",
   "execution_count": null,
   "id": "bb59dcf4-bc7e-4212-a7de-35ab32e16f45",
   "metadata": {},
   "outputs": [],
   "source": [
    "df[df['Animal Type'] == \"Livestock\"]['Color'].unique()"
   ]
  },
  {
   "cell_type": "markdown",
   "id": "13d5e3c3-707e-4877-a02e-8a79954dd4bb",
   "metadata": {},
   "source": [
    "### Data Dictionary"
   ]
  },
  {
   "cell_type": "markdown",
   "id": "dd901f0a-c43e-49aa-981e-e24153545af9",
   "metadata": {},
   "source": [
    "\n",
    "| Column            | Data Type | Description |\n",
    "|-------------------|-----------|-------------|\n",
    "| animal_id         | Object| unique identifier for animal\n",
    "| date_of_birth  | Object | date of birth of animal\n",
    "| name        | Object |name of animal       \n",
    "datetime         | Object| timestamp of outcome          \n",
    "month_year       | Object| month and year of outcome             \n",
    "outcome_type      | Object| type of outcome        \n",
    "outcome_subtype      | Object| subtype of outcome   \n",
    "animal_type        | Object| animal type          \n",
    "sex_upon_outcome    | Object| sex and neutered status of animal         \n",
    "age_upon_outcome   | Object| age of animal at time of outcome         \n",
    "breed            | Object| breed of animal     \n",
    "color               | Object| color of animal   "
   ]
  },
  {
   "cell_type": "markdown",
   "id": "4a7b10ed-2d58-4fd8-89bd-c2df49595641",
   "metadata": {},
   "source": [
    "### Rename Columns and Change Datatypes"
   ]
  },
  {
   "cell_type": "markdown",
   "id": "5b0a1cf5-75ca-478b-9503-1d09e7dcfbca",
   "metadata": {},
   "source": [
    "## Cleaning "
   ]
  },
  {
   "cell_type": "code",
   "execution_count": null,
   "id": "cfc51202-93c3-4f7b-a436-469fecba464e",
   "metadata": {},
   "outputs": [],
   "source": [
    "df.rename(columns={ \"Animal ID\": \"animal_id\",\n",
    "        \"Date of Birth\": \"date_of_birth\",\n",
    "        \"Name\": \"name\",\n",
    "        \"DateTime\": \"datetime\",\n",
    "        \"MonthYear\": \"month_year\",\n",
    "        \"Outcome Type\": \"outcome_type\",\n",
    "        \"Outcome Subtype\": \"outcome_subtype\",\n",
    "        \"Animal Type\": \"animal_type\",\n",
    "        \"Sex upon Outcome\": \"sex_upon_outcome\",\n",
    "        \"Age upon Outcome\": \"age_upon_outcome\",\n",
    "        \"Breed\": \"breed\",\n",
    "        \"Color\": \"color\"}, inplace=True)"
   ]
  },
  {
   "cell_type": "code",
   "execution_count": null,
   "id": "695d15dc-d6b3-420e-9bd2-8307a0723638",
   "metadata": {},
   "outputs": [],
   "source": [
    "df['date_of_birth'] = pd.to_datetime(df['date_of_birth'])\n",
    "df['month_year'] = pd.to_datetime(df['month_year'], format=\"%m-%Y\")\n",
    "df['outcome_type'] = df['outcome_type'].astype('category')\n",
    "df['outcome_subtype'] = df['outcome_type'].astype('category')\n",
    "df['animal_type'] = df['animal_type'].astype('category')\n",
    "df['sex_upon_outcome'] = df['sex_upon_outcome'].astype('category')"
   ]
  },
  {
   "cell_type": "code",
   "execution_count": null,
   "id": "65e4936e-6d0b-4af8-8d0c-df4159591451",
   "metadata": {},
   "outputs": [],
   "source": [
    "df.info()"
   ]
  },
  {
   "cell_type": "code",
   "execution_count": null,
   "id": "5b3597d8-6a4b-41dc-97fe-0109b0149048",
   "metadata": {},
   "outputs": [],
   "source": [
    "df.drop('name', axis=1, inplace=True)"
   ]
  },
  {
   "cell_type": "code",
   "execution_count": null,
   "id": "424b8a89-7373-4524-89bc-1fe6ab1f7754",
   "metadata": {},
   "outputs": [],
   "source": [
    "df.dropna(subset=['age_upon_outcome', 'sex_upon_outcome'], inplace=True)"
   ]
  },
  {
   "cell_type": "code",
   "execution_count": null,
   "id": "c0514b56-eea0-4b6e-97ed-175267d7fcc6",
   "metadata": {},
   "outputs": [],
   "source": [
    "df.isnull().sum()"
   ]
  }
 ],
 "metadata": {
  "kernelspec": {
   "display_name": "Python 3 (ipykernel)",
   "language": "python",
   "name": "python3"
  },
  "language_info": {
   "codemirror_mode": {
    "name": "ipython",
    "version": 3
   },
   "file_extension": ".py",
   "mimetype": "text/x-python",
   "name": "python",
   "nbconvert_exporter": "python",
   "pygments_lexer": "ipython3",
   "version": "3.12.3"
  }
 },
 "nbformat": 4,
 "nbformat_minor": 5
}
